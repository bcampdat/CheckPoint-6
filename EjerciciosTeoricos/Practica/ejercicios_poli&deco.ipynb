{
 "cells": [
  {
   "cell_type": "markdown",
   "metadata": {},
   "source": [
    "## Poliformismo y decoradores"
   ]
  },
  {
   "cell_type": "markdown",
   "metadata": {},
   "source": [
    "                                                                Ejercios para practicar"
   ]
  },
  {
   "cell_type": "markdown",
   "metadata": {},
   "source": [
    "Ejercicio 1:\n",
    "\n",
    "\"Imagina que estás desarrollando un sistema para una flota de vehículos. En esta flota, hay diferentes tipos de vehículos, como coches, motos y camiones. Cada tipo de vehículo tiene una forma única de moverse.\n",
    "\n",
    "Tu tarea es crear una clase para cada tipo de vehículo. Cada clase debe tener un método llamado mover. Este método debe imprimir cómo se mueve el vehículo.\n",
    "\n",
    "Después de definir las clases, crea un objeto para cada tipo de vehículo. Luego, en un bucle, llama al método mover para cada vehículo."
   ]
  },
  {
   "cell_type": "code",
   "execution_count": 2,
   "metadata": {},
   "outputs": [
    {
     "name": "stdout",
     "output_type": "stream",
     "text": [
      "El coche se mueve en cuatro ruedas.\n",
      "La moto se mueve en dos ruedas.\n",
      "El camión se mueve en muchas ruedas.\n"
     ]
    }
   ],
   "source": [
    "# introduce tu código\n",
    "\n"
   ]
  },
  {
   "cell_type": "markdown",
   "metadata": {},
   "source": [
    "Ejercicio 2: \n",
    "    \n",
    "    Crea un objeto de la clase Tomate y otro de la clase Manzana. Usa la función mi_funcion() para hacer que cada objeto imprima su tipo y color. Añade una nueva clase, por ejemplo, Pera, que también tenga los métodos tipo() y color(). Haz que tipo() imprima “Fruta” y que color() imprima “Verde”. Crea un objeto de la clase Pera y usa mi_funcion() para hacer que el objeto Pera imprima su tipo y color."
   ]
  },
  {
   "cell_type": "code",
   "execution_count": 1,
   "metadata": {},
   "outputs": [
    {
     "name": "stdout",
     "output_type": "stream",
     "text": [
      "Hortaliza\n",
      "Rojo\n",
      "Fruta\n",
      "Roja\n",
      "Fruta\n",
      "Verde\n"
     ]
    }
   ],
   "source": [
    "# introduce tu código\n"
   ]
  },
  {
   "cell_type": "markdown",
   "metadata": {},
   "source": [
    "Ejercicio 3: \n",
    "\n",
    "\"Imagina que estás creando un programa para una clase de geografía. Tu tarea es crear clases para representar diferentes países. Cada país debe tener métodos para imprimir su capital y su idioma oficial.\n",
    "\n",
    "Para este ejercicio, crea dos clases, Spain y Portugal. Cada clase debe tener dos métodos: capital y idioma. El método capital debe imprimir la capital del país y el método idioma debe imprimir el idioma oficial del país.\n",
    "\n",
    "Después de definir las clases, crea un objeto para cada país. Luego, en un bucle, llama a los métodos capital e idioma para cada país.\"\n",
    "    \n"
   ]
  },
  {
   "cell_type": "code",
   "execution_count": 3,
   "metadata": {},
   "outputs": [
    {
     "name": "stdout",
     "output_type": "stream",
     "text": [
      "Madrid\n",
      "Español\n",
      "Lisboa\n",
      "Portugués\n"
     ]
    }
   ],
   "source": [
    "# introduce tu código\n"
   ]
  },
  {
   "cell_type": "markdown",
   "metadata": {},
   "source": [
    "Ejercicio 4: \n",
    "\n",
    "Como serían los ejercicios anteriores usando decoradores ?   Aceptas el reto ✔"
   ]
  },
  {
   "cell_type": "code",
   "execution_count": 5,
   "metadata": {},
   "outputs": [],
   "source": [
    "# EJ: 1\n",
    "\n",
    "\n",
    "    # @imprimir_mensaje"
   ]
  },
  {
   "cell_type": "code",
   "execution_count": 2,
   "metadata": {},
   "outputs": [],
   "source": [
    "# EJ: 2\n",
    "\n",
    "\n",
    "    # @imprimir_tipo_y_color    \n"
   ]
  },
  {
   "cell_type": "code",
   "execution_count": 4,
   "metadata": {},
   "outputs": [],
   "source": [
    "# EJ: 3\n",
    "\n",
    "    # @imprimir_mensaje"
   ]
  },
  {
   "cell_type": "markdown",
   "metadata": {},
   "source": [
    "▶   [seinoiculoS :](../Soluciones/Soluciones_poli&deco.py)"
   ]
  }
 ],
 "metadata": {
  "kernelspec": {
   "display_name": "Python 3",
   "language": "python",
   "name": "python3"
  },
  "language_info": {
   "codemirror_mode": {
    "name": "ipython",
    "version": 3
   },
   "file_extension": ".py",
   "mimetype": "text/x-python",
   "name": "python",
   "nbconvert_exporter": "python",
   "pygments_lexer": "ipython3",
   "version": "3.12.2"
  }
 },
 "nbformat": 4,
 "nbformat_minor": 2
}
