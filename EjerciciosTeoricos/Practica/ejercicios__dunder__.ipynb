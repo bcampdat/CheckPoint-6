{
 "cells": [
  {
   "cell_type": "markdown",
   "metadata": {},
   "source": [
    "## __ dunder __"
   ]
  },
  {
   "cell_type": "markdown",
   "metadata": {},
   "source": [
    "                                                                Ejercios para practicar"
   ]
  },
  {
   "cell_type": "markdown",
   "metadata": {},
   "source": [
    "Ejercicio 6:\n",
    "\n",
    "Escribe una función ContadorPalabras que tome una cadena de texto como entrada y devuelva el número de palabras en esa cadena. Utiliza el método dunder __len__ para contar las palabras."
   ]
  },
  {
   "cell_type": "code",
   "execution_count": 8,
   "metadata": {},
   "outputs": [
    {
     "name": "stdout",
     "output_type": "stream",
     "text": [
      "8\n"
     ]
    }
   ],
   "source": [
    "# introduce tu código\n",
    "   \n"
   ]
  },
  {
   "cell_type": "markdown",
   "metadata": {},
   "source": [
    "Ejercicio 7: \n",
    "    \n",
    "    Crea una clase Fecha que represente una fecha con día, mes y año, y sobrecargue el operador de igualdad == para comparar dos fechas. Utiliza el método dunder __eq__.."
   ]
  },
  {
   "cell_type": "code",
   "execution_count": 3,
   "metadata": {},
   "outputs": [
    {
     "name": "stdout",
     "output_type": "stream",
     "text": [
      "True\n",
      "False\n"
     ]
    }
   ],
   "source": [
    "# introduce tu código\n"
   ]
  },
  {
   "cell_type": "markdown",
   "metadata": {},
   "source": [
    "Ejercicio 8: ✔ RETO\n",
    "\n",
    "    Escribe una clase llamada Calculadora que represente una calculadora básica. Esta clase debe tener un constructor que reciba un valor inicial para la calculadora. La calculadora debe ser capaz de realizar las siguientes operaciones básicas: suma, resta, multiplicación y división.\n",
    "\n",
    "La clase Calculadora debe utilizar métodos dunder (__add__, __sub__, __mul__, __truediv__) para permitir estas operaciones entre instancias de la clase y otros números.\n"
   ]
  },
  {
   "cell_type": "code",
   "execution_count": 6,
   "metadata": {},
   "outputs": [
    {
     "name": "stdout",
     "output_type": "stream",
     "text": [
      "Suma: 30\n",
      "Resta: -10\n",
      "Multiplicación: 200\n",
      "División: 0.5\n"
     ]
    }
   ],
   "source": [
    "# introduce tu código\n",
    "\n",
    "#  ACEPTAS EL RETO 💪"
   ]
  },
  {
   "cell_type": "markdown",
   "metadata": {},
   "source": [
    "▶   [seinoiculoS :](../Soluciones/Soluciones_clases.py)"
   ]
  }
 ],
 "metadata": {
  "kernelspec": {
   "display_name": "Python 3",
   "language": "python",
   "name": "python3"
  },
  "language_info": {
   "codemirror_mode": {
    "name": "ipython",
    "version": 3
   },
   "file_extension": ".py",
   "mimetype": "text/x-python",
   "name": "python",
   "nbconvert_exporter": "python",
   "pygments_lexer": "ipython3",
   "version": "3.12.2"
  }
 },
 "nbformat": 4,
 "nbformat_minor": 2
}
