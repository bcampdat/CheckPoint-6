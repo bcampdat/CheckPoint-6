{
 "cells": [
  {
   "cell_type": "markdown",
   "metadata": {},
   "source": [
    "                                                EJERCICIOS PRACTICOS  "
   ]
  },
  {
   "cell_type": "markdown",
   "metadata": {},
   "source": [
    "Ejercicio 1: \n",
    "    \n",
    "    Cree una clase de Python llamada Usuario que use el método init y cree un nombre de usuario y una contraseña. \n",
    "    \n",
    "    Crea un objeto usando la clase."
   ]
  },
  {
   "cell_type": "code",
   "execution_count": 7,
   "metadata": {},
   "outputs": [
    {
     "name": "stdout",
     "output_type": "stream",
     "text": [
      "Usuario: #-User123, Password: #-Pass123\n"
     ]
    }
   ],
   "source": [
    "class Usuario:\n",
    "    def __init__(self, nombre_usuario, password):\n",
    "        self.nombre_usuario = nombre_usuario\n",
    "        self.password = password\n",
    "    \n",
    "    def __str__(self):\n",
    "        return f\"Usuario: {self.nombre_usuario}, Password: {self.password}\"\n",
    "\n",
    "# Crear un objeto Usuario\n",
    "usuario1 = Usuario(\"#-User123\", \"#-Pass123\")\n",
    "\n",
    "print(usuario1)"
   ]
  }
 ],
 "metadata": {
  "kernelspec": {
   "display_name": "Python 3",
   "language": "python",
   "name": "python3"
  },
  "language_info": {
   "codemirror_mode": {
    "name": "ipython",
    "version": 3
   },
   "file_extension": ".py",
   "mimetype": "text/x-python",
   "name": "python",
   "nbconvert_exporter": "python",
   "pygments_lexer": "ipython3",
   "version": "3.12.2"
  }
 },
 "nbformat": 4,
 "nbformat_minor": 2
}
