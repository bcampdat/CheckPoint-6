{
 "cells": [
  {
   "cell_type": "markdown",
   "metadata": {},
   "source": [
    "                                Preguntas Teoricas"
   ]
  },
  {
   "cell_type": "markdown",
   "metadata": {},
   "source": [
    "Crear una documentación....sobre lo conceptos que te proporciono, \n",
    "\n",
    "Sobre las preguntas de a continuación, para las personas que están iniciando en el mundo del desarrollo\n",
    "y estas puedan comprender y aprender con tu material.\n",
    "lo más detallado posible:\n",
    "Colocar ejemplos, para que se utiliza, sintaxis, como se utiliza, etc...\n",
    "Realices una documentación sobre lo conceptos que te proporcionare, \n"
   ]
  },
  {
   "cell_type": "markdown",
   "metadata": {},
   "source": [
    "1. ¿Para qué usamos Clases en Python?\n",
    "\n",
    "    [Teoría ](./Ejercicios/clases.ipynb) y [ejercicios :](./Ejercicios/Practica/ejercicios_clases.ipynb) "
   ]
  },
  {
   "cell_type": "markdown",
   "metadata": {},
   "source": [
    "2. ¿Qué método se ejecuta automáticamente cuando se crea una instancia de una clase?\n",
    "\n",
    "    [Teoría ](./Ejercicios/clases.ipynb) y [ejercicios :](./Ejercicios/Practica/ejercicios_clases.ipynb)"
   ]
  },
  {
   "cell_type": "markdown",
   "metadata": {},
   "source": [
    "3. ¿Qué es un método dunder?\n",
    "\n",
    "    [Teoría ](./Ejercicios/clases.ipynb) y [ejercicios :](./Ejercicios/Practica/ejercicios__dunder__.ipynb)"
   ]
  },
  {
   "cell_type": "markdown",
   "metadata": {},
   "source": [
    "4. ¿Qué es el polimorfismo?\n",
    "\n",
    "    [Teoría ](./Ejercicios/poli&deco.ipynb) y [ejercicios :](./Ejercicios/Practica/ejercicios_poli&deco.ipynb) "
   ]
  },
  {
   "cell_type": "markdown",
   "metadata": {},
   "source": [
    "5. ¿Qué es un decorador de python?\n",
    "\n",
    "    [Teoría ](./Ejercicios/poli&deco.ipynb) y [ejercicios :](./Ejercicios/Practica/ejercicios_poli&deco.ipynb) "
   ]
  },
  {
   "cell_type": "markdown",
   "metadata": {},
   "source": [
    "6. ¿Qué es una API?\n",
    "\n",
    "    [Teoría ](./Ejercicios/API.ipynb) y [ejercicios :](https://youtu.be/b0ZrmhyyCY4)"
   ]
  },
  {
   "cell_type": "markdown",
   "metadata": {},
   "source": [
    "7. ¿Cuáles son los tres verbos de API?\n",
    "\n",
    "    [Teoría ](./Ejercicios/API.ipynb) y [ejercicios :](https://youtu.be/b0ZrmhyyCY4) "
   ]
  },
  {
   "cell_type": "markdown",
   "metadata": {},
   "source": [
    "8. ¿Es MongoDB una base de datos SQL o NoSQL?\n",
    "\n",
    "    [Teoría ](./Ejercicios/MongoDB.ipynb) y [ejercicios :](https://www.apuntesinformaticafp.com/actividades/ejercicios_mongodb.html)\n"
   ]
  },
  {
   "cell_type": "markdown",
   "metadata": {},
   "source": [
    "9. ¿Qué es Postman?\n",
    "\n",
    "    [Teoría ](./Ejercicios/Postman.ipynb) y [ejercicios :](https://www.tutorialspoint.com/postman/index.htm) "
   ]
  },
  {
   "cell_type": "markdown",
   "metadata": {},
   "source": [
    "* ***Curso completo*** : \n",
    "[Curso Brais Moure](https://youtu.be/TbcEqkabAWU)\n",
    "\n",
    "   [Curso Brais Moure Backend](https://www.youtube.com/watch?v=_y9qQZXE24A)\n",
    "\n",
    "* ***Documentación oficial:***    [Python](https://docs.python.org/3/tutorial/index.html)"
   ]
  }
 ],
 "metadata": {
  "language_info": {
   "name": "python"
  }
 },
 "nbformat": 4,
 "nbformat_minor": 2
}
